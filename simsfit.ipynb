{
 "cells": [
  {
   "cell_type": "code",
   "execution_count": 153,
   "metadata": {
    "collapsed": false
   },
   "outputs": [
    {
     "name": "stdout",
     "output_type": "stream",
     "text": [
      "/home/felipe/Escritorio/Codigos_physical_conditions\n"
     ]
    }
   ],
   "source": [
    "cd /home/felipe/Escritorio/Codigos_physical_conditions/"
   ]
  },
  {
   "cell_type": "code",
   "execution_count": 154,
   "metadata": {
    "collapsed": false
   },
   "outputs": [],
   "source": [
    "image12CO = '/home/felipe/Escritorio/ID/HD142527/Simulations_CO3-2/smooth_image_12co32_o500_i159.00_phi90.00_PA-24.00'\n",
    "image13CO = '/home/felipe/Escritorio/ID/HD142527/Simulations_CO3-2/smooth_image_13co32_o500_i159.00_phi90.00_PA-24.00'\n",
    "imageC18O = '/home/felipe/Escritorio/ID/HD142527/Simulations_CO3-2/smooth_image_c18o32_o500_i159.00_phi90.00_PA-24.00'\n",
    "\n",
    "imageC18O_2 = '/home/felipe/Escritorio/nuevos_cubos/Faceon/image_c18o32_dust_o500_i180.00_phi90.00_PA-24.00'\n",
    "image13CO_2 = '/home/felipe/Escritorio/nuevos_cubos/Faceon/image_13co32_dust_o500_i180.00_phi90.00_PA-24.00'\n",
    "image12CO_2 = '/home/felipe/Escritorio/nuevos_cubos/Faceon/image_12co32_dust_o500_i180.00_phi90.00_PA-24.00'\n",
    "\n",
    "imageC18O_nodust = '/home/felipe/Escritorio/nuevos_cubos/Faceon/no_dust/image_c18o32_nodust_o500_i180.00_phi90.00_PA-24.00'\n",
    "image12CO_nodust = '/home/felipe/Escritorio/nuevos_cubos/Faceon/no_dust/image_12co32_nodust_o500_i180.00_phi90.00_PA-24.00'\n",
    "image13CO_nodust = '/home/felipe/Escritorio/nuevos_cubos/Faceon/no_dust/image_13co32_nodust_o500_i180.00_phi90.00_PA-24.00' \n"
   ]
  },
  {
   "cell_type": "code",
   "execution_count": 4,
   "metadata": {
    "collapsed": false
   },
   "outputs": [],
   "source": [
    "\n",
    "import collision_cross_section\tas ccs\t\t\t\t# auxiliar quantities\n",
    "import help_functions as hf\t\t\t\t\t# finding maximum\n",
    "from constants import *\n",
    "\n",
    "import numpy as np\n",
    "import scipy as sp\n",
    "from scipy.integrate import quad\n",
    "import pyfits as pf\n",
    "import matplotlib.pyplot as plt\n",
    "import scipy.ndimage.measurements as meas\n",
    "import glob\n",
    "import os\n",
    "import math\n",
    "from iminuit import Minuit\n",
    "import sys\n",
    "from astropy.convolution import Gaussian2DKernel, convolve_fft\n",
    "\n",
    "\n",
    "h=6.62606957*10**(-34)\n",
    "c=2.99792458*10**8\n",
    "k=1.3806488*10**(-23)\n",
    "\n",
    "#d12 = -38772.7057800293\n",
    "#nu12i = 230538019386.3495 - d12*29\n",
    "#nu12f = 230538019386.3495 + d12*30\n",
    "\n",
    "#d13 = -37067.44424438477\n",
    "#nu13i = 220398702661.8233 - d13*59\n",
    "#nu13f = 220398702661.8233 + d13*60\n",
    "\n",
    "#d18 = -36926.43966674805\n",
    "#nu18i = 219560372563.2249 - d18*59.\n",
    "#nu18f = 219560372563.2249 + d18*60.\n",
    "\n",
    "\n",
    "d12 = -58157.20745849609\n",
    "nu12i = 345796018978.6035 - d12*59\n",
    "nu12f = 345796018978.6035 + d12*60\n",
    "\n",
    "d13 = -55599.46649169922\n",
    "nu13i = 330587993021.5317 - d13*59\n",
    "nu13f = 330587993021.5317 + d13*60\n",
    "\n",
    "d18 = -55387.990234375\n",
    "nu18i = 329330580193.9937 - d18*59.\n",
    "nu18f = 329330580193.9937 + d18*60.\n"
   ]
  },
  {
   "cell_type": "code",
   "execution_count": 5,
   "metadata": {
    "collapsed": false
   },
   "outputs": [],
   "source": [
    "def datafits(namefile):\n",
    "    \"\"\"\n",
    "    Open a FITS image and return datacube and header, namefile without '.fits'\n",
    "    \"\"\"\n",
    "    datacube = pf.open(namefile + '.fits')[0].data\n",
    "    hdr = pf.open(namefile + '.fits')[0].header\n",
    "    return datacube, hdr\n",
    "\n",
    "\n",
    "def bbody(t,nu):\n",
    "    \"\"\"\n",
    "    Blackbody flux for a given temperature and frequency W/(m^2*Hz*sr) (mks system)\n",
    "    \"\"\"\n",
    "    return (1.4745e-50)*nu**3.0/(sp.exp(4.79922e-11*nu/t)-1.0)\n",
    "\n",
    "\n",
    "def phi(t,nu,nu0,vturb,angle, m):\n",
    "    \"\"\"\n",
    "    vturb m*s^-1\n",
    "    \"\"\"\n",
    "    pa = (-20+90+angle)*math.pi/180.0  #-20 is the PA from east of north, and 90 to get the semi-minor axis\n",
    "    Q = 1\n",
    "    shear = (Q*math.sin(incli)**2)*(math.tan(incli)**2)*math.sin(2*pa)**2\n",
    "    deltav = (nu0/c)*math.sqrt(k*t/m + vturb**2 )*(1+shear)**(0.5)\n",
    "    phi0 = deltav*math.sqrt(2*math.pi)\n",
    "    gauss=sp.exp(-((nu-nu0)**2.0)/(2*(deltav**2.0)))\n",
    "    aux = gauss/phi0\n",
    "    return aux/sp.sum(aux)\n",
    "\n",
    "\n",
    "def tau(t,nu,nu0,nco,vturb,angle,iso=12):\n",
    "    \"\"\"\n",
    "    Optical depth with turbulent velocity and thermal velocity\n",
    "    sigma is cross area cm^2\n",
    "    \"\"\"\n",
    "    sigma = ccs.cross_section(\"13CO\")\n",
    "    m = ccs.molecular_mass(\"13CO\")\n",
    "    if iso==12:\n",
    "        sigma = ccs.cross_section(\"12CO\")\n",
    "        m = ccs.molecular_mass(\"12CO\")\n",
    "    elif iso==13:\n",
    "        sigma = ccs.cross_section(\"13CO\")\n",
    "        m = ccs.molecular_mass(\"13CO\")\n",
    "    elif iso==18:\n",
    "        sigma = ccs.cross_section(\"C18O\")\n",
    "        m = ccs.molecular_mass(\"C18O\")\n",
    "#    sigma = sigma/(m*10**9)\n",
    "    return nco*sigma*phi(t,nu,nu0,vturb,angle, m)/math.cos(incli)\n",
    "\n",
    "def intensity(nu, T, nu0, alpha, nco, vturb, angle, i0, hdr, iso=12):\n",
    "    \"\"\"\n",
    "    Solution to radiative transfer equation\n",
    "    \"\"\"\n",
    "    if iso==13:\n",
    "        nco/= 70.\n",
    "    elif iso==18:\n",
    "        nco/=500.        \n",
    "    pix_deg = abs(hdr['CDELT1'])\n",
    "    pix_rad = pix_deg*sp.pi/180.\n",
    "    bminaxis =  pix_deg  #arcsec\n",
    "    bmajaxis = pix_deg  #arcsec,\n",
    "    scaling = (sp.pi/4.)*1e26*pix_rad**2 \n",
    "    blackbody = bbody(T,nu)*(1.0-sp.exp(-tau(T,nu,nu0,nco,vturb,angle, iso)))*3*scaling\n",
    "    cont = i0*sp.exp(-tau(T,nu,nu0,nco,vturb,angle, iso))*(nu/nu0)**alpha\n",
    "    #    cont = i0*sp.exp(-tau(T,nu,nu0,nco,vturb,angle, iso))*(nu/nu0)**alpha\n",
    "    return  blackbody + cont\n",
    "\n",
    "\n",
    "def iintensity(nu, T, nu0, alpha, nco, vturb, angle, i0, hdr, iso=12):\n",
    "    dnu = (abs(nu[1] - nu[0]))/2.\n",
    "    I_nu = sp.zeros(len(nu))\n",
    "    for i in range(len(nu)):\n",
    "         I_nu[i]= quad(intensity, nu[i]-dnu, nu[i]+dnu, args=(T, nu0 ,alpha, nco, vturb, angle, i0, hdr, iso))[0]\n",
    "    return I_nu       \n",
    "\n",
    "def intensity_err(nu, nu0, T, alpha, i0, nco, vturb, angle, datos, hdr, iso=12):\n",
    "    \"\"\"\n",
    "    Chi squared of data with fit of spectral line, both normalized.\n",
    "    \"\"\"\n",
    "    model = intensity(nu, T, nu0, alpha, nco, vturb, angle, i0, hdr, iso)\n",
    "    aux = (datos-model)**2\n",
    "    chi = sp.sum(aux)\n",
    "    return chi\n",
    "\n",
    "\n",
    "def flux_int(T, alpha, i0, nco, vturb, angle, datos, hdr12, hdr13, hdr18):\n",
    "    \"\"\"\n",
    "    Chi^2 obtained integrating function from radiative transfer\n",
    "    in the spectral window of each isotopologue divided by molecular fractions.\n",
    "    \"\"\"\n",
    "    nu013 = 220398702661.8233\n",
    "    nu012 = 230538019386.3495\n",
    "    nu018 = 219560372563.2249\n",
    "    integral12 = quad(intensity, nu12i, nu12f, args=(T, nu012 ,alpha, nco, vturb, angle, i0, hdr12, 12))\n",
    "    integral13 = quad(intensity, nu13i, nu13f, args=(T, nu013 ,alpha, nco/70., vturb, angle, i0, hdr13, 13))\n",
    "    integral18 = quad(intensity, nu18i, nu18f, args=(T, nu018 ,alpha, nco/500., vturb, angle, i0, hdr18, 18))\n",
    "    chi2 = sp.sum((datos[0]-integral12[0]*nu012/c)**2) + sp.sum((datos[1]-integral13[0]*nu013/c)**2) + ((datos[2]-integral18[0]*nu018/c)**2)\n",
    "    return chi2\n"
   ]
  },
  {
   "cell_type": "code",
   "execution_count": 6,
   "metadata": {
    "collapsed": false
   },
   "outputs": [],
   "source": [
    "incli=0"
   ]
  },
  {
   "cell_type": "code",
   "execution_count": 7,
   "metadata": {
    "collapsed": false
   },
   "outputs": [],
   "source": [
    "cubo, head = datafits(imageC18O_2)\n",
    "cubomax = cubo.max()\n",
    "stderr = sp.std(cubo)\n",
    "alpha = 2.3\n",
    "angle = 24.*sp.pi/180.\n",
    "i0=0.\n",
    "Temperature = sp.zeros((256,256))\n",
    "Denscol = sp.zeros((256,256))\n",
    "Turbvel = sp.zeros((256,256))\n",
    "errpars = sp.zeros((256,256,3))\n",
    "errmodel = sp.zeros((256,256))\n",
    "model = sp.zeros((256,256,120))\n",
    "model2 = sp.zeros((256,256,120))\n",
    "mom1 = sp.zeros((256,256))"
   ]
  },
  {
   "cell_type": "code",
   "execution_count": 158,
   "metadata": {
    "collapsed": false
   },
   "outputs": [
    {
     "data": {
      "text/plain": [
       "0.19230769230769232"
      ]
     },
     "execution_count": 158,
     "metadata": {},
     "output_type": "execute_result"
    }
   ],
   "source": [
    "25/130."
   ]
  },
  {
   "cell_type": "code",
   "execution_count": null,
   "metadata": {
    "collapsed": false,
    "scrolled": true
   },
   "outputs": [],
   "source": [
    "iso = 18\n",
    "r=80\n",
    "if iso==12:\n",
    "    nu0 = 230538019386.3495\n",
    "    nu = sp.linspace(nu12i, nu12f, 120)\n",
    "    f=1.\n",
    "    nues = sp.linspace(nu12i, nu12f, 200)\n",
    "    ncoscale=5e20\n",
    "elif iso==13:\n",
    "    ncoscale = 5e17\n",
    "    nu0 = 220398702661.8233\n",
    "    nu= sp.linspace(nu13i, nu13f, 120)\n",
    "    nues = sp.linspace(nu13i, nu13f, 200)\n",
    "    f=1e-2\n",
    "    dnu = d13\n",
    "else:\n",
    "    ncoscale = 3e17\n",
    "    nu0 = 219560372563.2249\n",
    "    nu = sp.linspace(nu18i, nu18f, 120)\n",
    "    nues = sp.linspace(nu18i, nu18f, 200)\n",
    "    f=1.7e-7/1e-4\n",
    "    dnu = d18\n",
    "#Change to mks and m1 from velocity to frequency\n",
    "\n",
    "cubomax = cubo.max()\n",
    "\n",
    "image1 ='/home/felipe/Escritorio/ID/HD142527/Simulations_CO3-2/nosmooth_Simslines_18_v_turb'\n",
    "datamdel = pf.open(image1+'.fits')[0].data\n",
    "datamdel[datamdel==0]=None\n",
    "\n",
    "\n",
    "i,j = 110,110\n",
    "while True:\n",
    "    if (i-128)**2 + (j-128)**2>r**2:\n",
    "        break\n",
    "        \n",
    "#plt.figure(1)\n",
    "#plt.clf()\n",
    "    plt.imshow(datamdel, cmap='inferno', origin='lower') \n",
    "    plt.grid(False)\n",
    "    l = plt.ginput(1)\n",
    "    i = int(l[0][0])\n",
    "    j= int(l[0][1])\n",
    "    print i,j\n",
    "    \n",
    "    data = cubo[40:80,i,j]\n",
    "\n",
    "    datamax = data.max()\n",
    "    datamin = data.min()\n",
    "    data1 = data -data.min()\n",
    "    centroid = (nu*(cubo[:,i,j]-datamin)).sum()/(cubo[:,i,j]-datamin).sum()\n",
    "    i0_model = data.min()\n",
    "    if i0_model==0:\n",
    "        i0_model=1e-8\n",
    "    s = data.sum()\n",
    "#    data/= data.sum()\n",
    "\n",
    "    r_ij = sp.sqrt((i-128)**2 +(j-128)**2)\n",
    "\n",
    "    if r_ij>20 and r_ij<50:\n",
    "        tscale = 130.\n",
    "        i_0 = 0.1\n",
    "        t0 = 0.18#*(r_ij*280/128.)**(-1/1.5)\n",
    "        tlim =(0.05,1.)\n",
    "        ncoscale *= 0.1\n",
    "    elif r_ij>=50.:\n",
    "        tscale = 80.\n",
    "        i_0 = 0.1\n",
    "        t0 = 350*(r_ij*280./128.)**(-1/1.5)/80.\n",
    "        tlim =(0.05,1.)\n",
    "    else:\n",
    "        i_0 = 0.1\n",
    "        tscale=200.\n",
    "        t0 = 0.4\n",
    "        tlim = (0.05,1.)\n",
    "# iminuit least squares fit\n",
    "\n",
    "#f = lambda Temp,vturb,NcolCO: intensity_err(nu, centroid, Temp*tscale, alpha, 0., ncoscale*NcolCO,\n",
    "#                                            600.*vturb, angle, data, head, iso)\n",
    "#m = Minuit(f, Temp=t0, vturb=0.04, NcolCO=0.00001, errordef=stderr/datamax,\n",
    "#            error_Temp=.005, error_NcolCO=0.0000005, error_vturb=0.005,\n",
    "#            limit_Temp=tlim, limit_vturb=(0.002, 1), limit_NcolCO=(0.0000001, 1))\n",
    "\n",
    "    f = lambda Temp,vturb,NcolCO,i0, nu0: intensity_err(nu[40:80], nu0, Temp*tscale, alpha, i0, ncoscale*NcolCO,\n",
    "                                                    700.*vturb, angle, data, head, iso)\n",
    "    m = Minuit(f, Temp=t0, vturb=0.04, NcolCO=0.00001,i0=i0_model, nu0=centroid, errordef=stderr/datamax,\n",
    "                error_Temp=.005, error_NcolCO=0.0000005, error_vturb=0.005, error_i0=i0_model/100., error_nu0=abs(dnu)/5.,\n",
    "                limit_Temp=tlim, limit_vturb=(0.002, 1), limit_NcolCO=(0.0000001, 1), limit_i0=(0.8*i0_model,1.5*i0_model),\n",
    "              limit_nu0=(centroid-1.2*abs(dnu), centroid+1.2*abs(dnu)))\n",
    "    m.migrad(1e9)\n",
    "\n",
    "#errmod = f(m.values['Temp'], m.values['vturb'], m.values['NcolCO'])\n",
    "#fit = [m.values['Temp']*tscale, m.values['vturb']*600., ncoscale*m.values['NcolCO']]\n",
    "\n",
    "\n",
    "    errmod = f(m.values['Temp'], m.values['vturb'], m.values['NcolCO'], m.values['i0'], m.values['nu0'])\n",
    "    fit = [m.values['Temp']*tscale, m.values['vturb']*700., ncoscale*m.values['NcolCO'], m.values['i0'], m.values['nu0']];\n",
    "    error = [m.errors['Temp']*tscale, m.errors['vturb']*700., ncoscale*m.errors['NcolCO']];\n",
    "\n",
    "    Temperature[i,j] = fit[0]\n",
    "    Denscol[i,j] = fit[2]\n",
    "    Turbvel[i,j] = fit[1]\n",
    "    errpars[i,j] = error\n",
    "    errmodel[i,j] = errmod\n",
    "\n",
    "    model[i,j] = intensity(nu, fit[0], fit[4], alpha, fit[2], fit[1], angle, fit[3], head, iso)\n",
    "    model2[i,j] = intensity(nu, 0.75*fit[0], fit[4], alpha, fit[2], 0.2*fit[1] , angle, fit[3], head, iso)    \n",
    "\n",
    "\n",
    "    plt.style.use('seaborn-paper')\n",
    "    velocity = sp.linspace(-3,3,120.)\n",
    "    plt.figure(2)\n",
    "    plt.clf()\n",
    "    plt.grid(False)\n",
    "    plt.xlabel('$km/s$', fontsize=14)\n",
    "    plt.ylabel('$Jy/Beam$', fontsize=14)\n",
    "    xs = sp.linspace(0,120,7)\n",
    "    plt.plot(velocity[40:80], data, 'r.', label='simulation $C^{18}O$')\n",
    "    plt.plot(velocity[40:80], model[i,j,40:80],'k', label='model') \n",
    "#    plt.plot(velocity[45:75], model2[i,j,45:75],'g', label='model2')    \n",
    "    plt.legend(fontsize=12, loc=2)\n",
    "    plt.tight_layout()\n",
    "    print errmod\n",
    "    print intensity_err(nu[40:80], fit[4], fit[0], alpha, fit[3], fit[2], fit[1], angle, data, head, iso)\n",
    "    print intensity_err(nu[40:80], fit[4], fit[0]*1.1, alpha, fit[3], fit[2], fit[1], angle, data, head, iso)\n",
    "    print sp.sum((data-model[i,j,40:80])**2),sp.sum((data-model2[i,j,40:80])**2),r_ij\n",
    "    print fit\n",
    "    plt.show()\n",
    "\n",
    "import matplotlib as mpl\n",
    "mpl.rcParams['xtick.labelsize'] = 10\n",
    "mpl.rcParams['ytick.labelsize'] = 10"
   ]
  },
  {
   "cell_type": "code",
   "execution_count": 9,
   "metadata": {
    "collapsed": false
   },
   "outputs": [
    {
     "data": {
      "text/plain": [
       "(15,)"
      ]
     },
     "execution_count": 9,
     "metadata": {},
     "output_type": "execute_result"
    }
   ],
   "source": [
    "data[45:75].shape"
   ]
  },
  {
   "cell_type": "code",
   "execution_count": 9,
   "metadata": {
    "collapsed": false
   },
   "outputs": [
    {
     "name": "stderr",
     "output_type": "stream",
     "text": [
      "/home/felipe/anaconda2/lib/python2.7/site-packages/ipykernel/__main__.py:41: InitialParamWarning: errordef is not given. Default to 1.\n"
     ]
    },
    {
     "data": {
      "text/html": [
       "<hr>"
      ]
     },
     "metadata": {},
     "output_type": "display_data"
    },
    {
     "data": {
      "text/html": [
       "\n",
       "        <table>\n",
       "            <tr>\n",
       "                <td title=\"Minimum value of function\">FCN = 8.62656649855e-09</td>\n",
       "                <td title=\"Total number of call to FCN so far\">TOTAL NCALL = 103</td>\n",
       "                <td title=\"Number of call in last migrad\">NCALLS = 103</td>\n",
       "            </tr>\n",
       "            <tr>\n",
       "                <td title=\"Estimated distance to minimum\">EDM = 4.87209125429e-07</td>\n",
       "                <td title=\"Maximum EDM definition of convergence\">GOAL EDM = 1e-05</td>\n",
       "                <td title=\"Error def. Amount of increase in FCN to be defined as 1 standard deviation\">\n",
       "                UP = 1.0</td>\n",
       "            </tr>\n",
       "        </table>\n",
       "        \n",
       "        <table>\n",
       "            <tr>\n",
       "                <td align=\"center\" title=\"Validity of the migrad call\">Valid</td>\n",
       "                <td align=\"center\" title=\"Validity of parameters\">Valid Param</td>\n",
       "                <td align=\"center\" title=\"Is Covariance matrix accurate?\">Accurate Covar</td>\n",
       "                <td align=\"center\" title=\"Positive definiteness of covariance matrix\">PosDef</td>\n",
       "                <td align=\"center\" title=\"Was covariance matrix made posdef by adding diagonal element\">Made PosDef</td>\n",
       "            </tr>\n",
       "            <tr>\n",
       "                <td align=\"center\" style=\"background-color:#92CCA6\">True</td>\n",
       "                <td align=\"center\" style=\"background-color:#92CCA6\">True</td>\n",
       "                <td align=\"center\" style=\"background-color:#FF7878\">False</td>\n",
       "                <td align=\"center\" style=\"background-color:#FF7878\">False</td>\n",
       "                <td align=\"center\" style=\"background-color:#FF7878\">True</td>\n",
       "            </tr>\n",
       "            <tr>\n",
       "                <td align=\"center\" title=\"Was last hesse call fail?\">Hesse Fail</td>\n",
       "                <td align=\"center\" title=\"Validity of covariance\">HasCov</td>\n",
       "                <td align=\"center\" title=\"Is EDM above goal EDM?\">Above EDM</td>\n",
       "                <td align=\"center\"></td>\n",
       "                <td align=\"center\" title=\"Did last migrad call reach max call limit?\">Reach calllim</td>\n",
       "            </tr>\n",
       "            <tr>\n",
       "                <td align=\"center\" style=\"background-color:#92CCA6\">False</td>\n",
       "                <td align=\"center\" style=\"background-color:#92CCA6\">True</td>\n",
       "                <td align=\"center\" style=\"background-color:#92CCA6\">False</td>\n",
       "                <td align=\"center\"></td>\n",
       "                <td align=\"center\" style=\"background-color:#92CCA6\">False</td>\n",
       "            </tr>\n",
       "        </table>\n",
       "        "
      ]
     },
     "metadata": {},
     "output_type": "display_data"
    },
    {
     "data": {
      "text/html": [
       "\n",
       "        <table>\n",
       "            <tr>\n",
       "                <td><a href=\"#\" onclick=\"$('#ATuTLMmBJC').toggle()\">+</a></td>\n",
       "                <td title=\"Variable name\">Name</td>\n",
       "                <td title=\"Value of parameter\">Value</td>\n",
       "                <td title=\"Parabolic error\">Parab Error</td>\n",
       "                <td title=\"Minos lower error\">Minos Error-</td>\n",
       "                <td title=\"Minos upper error\">Minos Error+</td>\n",
       "                <td title=\"Lower limit of the parameter\">Limit-</td>\n",
       "                <td title=\"Upper limit of the parameter\">Limit+</td>\n",
       "                <td title=\"Is the parameter fixed in the fit\">FIXED</td>\n",
       "            </tr>\n",
       "        \n",
       "            <tr>\n",
       "                <td>1</td>\n",
       "                <td>amp</td>\n",
       "                <td>0.000812129</td>\n",
       "                <td>0.000208092</td>\n",
       "                <td>0</td>\n",
       "                <td>0</td>\n",
       "                <td>0.000614413293079</td>\n",
       "                <td>0.000921619939618</td>\n",
       "                <td></td>\n",
       "            </tr>\n",
       "            \n",
       "            <tr>\n",
       "                <td>2</td>\n",
       "                <td>mu</td>\n",
       "                <td>-0.000254453</td>\n",
       "                <td>0.204687</td>\n",
       "                <td>0</td>\n",
       "                <td>0</td>\n",
       "                <td>-0.15002691873</td>\n",
       "                <td>0.14997308127</td>\n",
       "                <td></td>\n",
       "            </tr>\n",
       "            \n",
       "            <tr>\n",
       "                <td>3</td>\n",
       "                <td>disp</td>\n",
       "                <td>0.144347</td>\n",
       "                <td>1.91661</td>\n",
       "                <td>0</td>\n",
       "                <td>0</td>\n",
       "                <td>0.02</td>\n",
       "                <td>2.0</td>\n",
       "                <td></td>\n",
       "            </tr>\n",
       "            \n",
       "            <tr>\n",
       "                <td>4</td>\n",
       "                <td>i0</td>\n",
       "                <td>1.00527e-05</td>\n",
       "                <td>9.54118e-06</td>\n",
       "                <td>0</td>\n",
       "                <td>0</td>\n",
       "                <td>0.0</td>\n",
       "                <td>1.20632328617e-05</td>\n",
       "                <td></td>\n",
       "            </tr>\n",
       "            \n",
       "            </table>\n",
       "        \n",
       "            <pre id=\"ATuTLMmBJC\" style=\"display:none;\">\n",
       "            <textarea rows=\"14\" cols=\"50\" onclick=\"this.select()\" readonly>\\begin{tabular}{|c|r|r|r|r|r|r|r|c|}\n",
       "\\hline\n",
       " & Name & Value & Para Error & Error+ & Error- & Limit+ & Limit- & FIXED\\\\\n",
       "\\hline\n",
       "1 & amp & 8.121e-04 & 2.081e-04 &  &  & 6.144e-04 & 9.216e-04 & \\\\\n",
       "\\hline\n",
       "2 & $\\mu$ & -2.545e-04 & 2.047e-01 &  &  & -1.500e-01 & 1.500e-01 & \\\\\n",
       "\\hline\n",
       "3 & disp & 1.443e-01 & 1.917e+00 &  &  & 2.000e-02 & 2.000e+00 & \\\\\n",
       "\\hline\n",
       "4 & i0 & 1.005e-05 & 9.541e-06 &  &  & 0.000e+00 & 1.206e-05 & \\\\\n",
       "\\hline\n",
       "\\end{tabular}</textarea>\n",
       "            </pre>\n",
       "            "
      ]
     },
     "metadata": {},
     "output_type": "display_data"
    },
    {
     "data": {
      "text/html": [
       "<hr>"
      ]
     },
     "metadata": {},
     "output_type": "display_data"
    },
    {
     "name": "stdout",
     "output_type": "stream",
     "text": [
      "8.62656649855e-09\n",
      "[0.0008121291337210013, -0.00025445294559309217, 0.1443467968322463, 1.0052694066968932e-05]\n"
     ]
    },
    {
     "data": {
      "image/png": "[encoded data removed]",
      "text/plain": [
       "<matplotlib.figure.Figure at 0x7f4458476250>"
      ]
     },
     "metadata": {},
     "output_type": "display_data"
    }
   ],
   "source": [
    "from scipy.stats import norm\n",
    "%matplotlib inline\n",
    "\n",
    "def gaussian(x,y,amp,mu,sigma, i0):\n",
    "    gauss = amp*sp.exp(-(x-mu)**2/(2*sigma**2)) + i0\n",
    "    chi2 = sp.sum((gauss-y)**2)\n",
    "    return chi2\n",
    "\n",
    "r=80.\n",
    "cubomax = cubo.max()\n",
    "vels = sp.linspace(-3 ,3, 120)\n",
    "\n",
    "image1 ='/home/felipe/Escritorio/ID/HD142527/Simulations_CO3-2/nosmooth_Simslines_18_v_turb'\n",
    "datamdel = pf.open(image1+'.fits')[0].data\n",
    "datamdel[datamdel==0]=None\n",
    "\n",
    "i,j = 110,110\n",
    "\n",
    "\n",
    "#plt.imshow(datamdel, cmap='inferno', origin='lower') \n",
    "#plt.grid(False)\n",
    "#l = plt.ginput(1)\n",
    "#i = int(l[0][0])\n",
    "#j= int(l[0][1])\n",
    "#print i,j\n",
    "    \n",
    "data = cubo[:,i,j]\n",
    "\n",
    "datamax = data.max()\n",
    "datamin = data.min()\n",
    "data1 = data -data.min()\n",
    "centroid = (vels*data1).sum()/data1.sum()\n",
    "std = sp.dot((vels-centroid)**2,data)/data1.sum()\n",
    "\n",
    "r_ij = sp.sqrt((i-128)**2 +(j-128)**2)\n",
    "\n",
    "f = lambda amp, mu, disp, i0: gaussian(vels[45:75], data[45:75], amp, mu, disp, i0)\n",
    "m = Minuit(f, amp=datamax, mu=centroid, disp=std, i0=datamin,\n",
    "            error_amp=datamax*0.01, error_disp=0.005, error_mu=0.01, error_i0=datamin*0.01,\n",
    "            limit_amp=(datamax*0.8,datamax*1.2), limit_disp=(0.02, 2.), limit_mu=(centroid-0.15, centroid+0.15),\n",
    "            limit_i0=(0,1.2*datamin))\n",
    "m.migrad(1e9)\n",
    "\n",
    "errmod = f(m.values['amp'], m.values['mu'], m.values['disp'], m.values['i0'])\n",
    "fit = [m.values['amp'], m.values['mu'], m.values['disp'], m.values['i0']]\n",
    "error = [m.errors['amp'], m.errors['mu'], m.errors['disp'], m.errors['i0']];\n",
    "\n",
    "model = fit[0]*sp.exp(-(vels-fit[1])**2/(2*fit[2]**2)) + fit[3]\n",
    "\n",
    "plt.figure(2)\n",
    "plt.clf()\n",
    "plt.grid(False)\n",
    "plt.xlabel('$km/s$', fontsize=14)\n",
    "plt.ylabel('$Jy/Beam$', fontsize=14)\n",
    "xs = sp.linspace(0,120,7)\n",
    "plt.plot(vels, data, 'r.', label='simulation $C^{18}O$')\n",
    "plt.plot(vels, model,'k', label='model') \n",
    "#    plt.fill_between(vels, model-e, model+e, facecolor='gray', alpha=0.5)\n",
    "plt.tight_layout()\n",
    "print errmod\n",
    "print fit\n",
    "    "
   ]
  },
  {
   "cell_type": "code",
   "execution_count": 49,
   "metadata": {
    "collapsed": false
   },
   "outputs": [],
   "source": [
    "import pyfits as pf\n",
    "import matplotlib.pyplot as plt\n",
    "import scipy as sp\n",
    "from matplotlib.colors import LogNorm\n",
    "\n",
    "\n",
    "tag1='Temp'\n",
    "tag2='v_turb'\n",
    "tag3='NCO'\n",
    "image1 = '/home/felipe/Escritorio/nuevos_cubos/smooth_Simslines_18_'+tag2\n",
    "image2 = '/home/felipe/Escritorio/nuevos_cubos/no_smooth_Simslines_18_model'\n",
    "#image1 ='/home/felipe/Escritorio/ID/HD142527/Simulations_CO3-2/no_smooth_Simslines_18_' + tag2\n",
    "#image2 = '/home/felipe/Escritorio/ID/HD142527/Simulations_CO3-2/no_smooth_Simslines_18_model'\n",
    "modeldata = pf.open(image2+'.fits')[0].data\n",
    "modeldata = sp.sum(modeldata,axis=0)\n",
    "datamdel = pf.open(image1+'.fits')[0].data\n",
    "modeldata[datamdel==0]=None\n",
    "datamdel[datamdel<=0.001]=None\n",
    "\n",
    "cmap1 = 'hot'\n",
    "cmap2 = 'plasma'\n",
    "cmap3 = 'inferno'\n",
    "cmap4 = 'magma'\n",
    "\n",
    "imagesmooth1 ='/home/felipe/Escritorio/ID/HD142527/Simulations_CO3-2/smooth_Simslines_13_v_turb'\n",
    "imagesmooth2 = '/home/felipe/Escritorio/ID/HD142527/Simulations_CO3-2/Simslines_13_model'\n",
    "smodeldata = pf.open(imagesmooth2+'.fits')[0].data\n",
    "smodeldata = sp.sum(smodeldata,axis=0)\n",
    "sdatamdel = pf.open(imagesmooth1+'.fits')[0].data\n",
    "smodeldata[sdatamdel==0]=None\n",
    "sdatamdel[sdatamdel==0]=None\n",
    "\n",
    "plt.style.use('seaborn-white')\n",
    "fig = plt.figure()\n",
    "fig.clf()\n",
    "#plt.imshow(datamdel, cmap='magma', origin='lower', norm=LogNorm(1e12,1e18))\n",
    "\n",
    "plt.imshow(datamdel, cmap='inferno', origin='lower')\n",
    "plt.clim([0,350])\n",
    "ax = plt.gca()\n",
    "ax.tick_params(axis='both', which='major', labelsize=20)\n",
    "plt.grid(False)\n",
    "cb1 = plt.colorbar(ax=ax)\n",
    "cb1.ax.tick_params(labelsize=16)\n",
    "plt.contour(smodeldata, sp.array([0.0022]), linewidth=10, cmap='inferno', origin='lower')\n",
    "\n",
    "plt.show()"
   ]
  },
  {
   "cell_type": "code",
   "execution_count": 50,
   "metadata": {
    "collapsed": false
   },
   "outputs": [
    {
     "name": "stderr",
     "output_type": "stream",
     "text": [
      "WARNING: NOT ignoring NaN values even though they are present  (they are treated as 0) [astropy.convolution.convolve]\n"
     ]
    }
   ],
   "source": [
    "Beam = 0.25\n",
    "resol = abs(head['CDELT1'])*3600\n",
    "stdev = Beam / (2 * sp.sqrt (2 * sp.log(2)))\n",
    "stdev /= resol\n",
    "x_size = int(8*stdev + 1.)\n",
    "beam = Gaussian2DKernel (stddev = stdev, x_size = x_size, y_size = x_size,\n",
    "                        model ='integrate')\n",
    "smooth =  np.zeros((256, 256))\n",
    "smooth += convolve_fft(datamdel, beam)\n",
    "smooth[smooth<1] = None\n",
    "plt.imshow(smooth[40:216,40:216], cmap='seismic', origin='lower')\n",
    "#plt.clim([20,230])\n",
    "#plt.imshow(datamdel, cmap='magma', origin='lower', norm=LogNorm(1e12,1e18))\n",
    "ax = plt.gca()\n",
    "ax.tick_params(axis='both', which='major', labelsize=20)\n",
    "plt.grid(False)\n",
    "cb1 = plt.colorbar(ax=ax, pad=0.01)\n",
    "cb1.ax.tick_params(labelsize=16)\n",
    "plt.contour(smodeldata[40:216,40:216], sp.array([0.0022]), linewidth=10, cmap='inferno', origin='lower')\n",
    "\n",
    "plt.show()"
   ]
  },
  {
   "cell_type": "code",
   "execution_count": 43,
   "metadata": {
    "collapsed": false
   },
   "outputs": [],
   "source": [
    "plt.figure(2)\n",
    "\n",
    "cont = '/home/felipe/Escritorio/nuevos_cubos/HD142527cont.fits'\n",
    "imatag = '/home/felipe/Escritorio/ID/HD142527/Physical_condition_32/lines_18_'+tag2\n",
    "ima = '/home/felipe/Escritorio/ID/HD142527/Physical_condition_32/lines_13_model'\n",
    "\n",
    "contsh = pf.open(cont)[0].data\n",
    "contsh = contsh[0,0,:,:]\n",
    "data18tag = pf.open(imatag+'.fits')[0].data\n",
    "data18 = pf.open(ima+'.fits')[0].data\n",
    "data18=sp.sum(data18,axis=0)\n",
    "\n",
    "data18tag[data18tag==0]=None\n",
    "data18[data18==0]=None\n",
    "\n",
    "\n",
    "levels=sp.array([0.005, 0.012, 0.019])\n",
    "plt.contour(contsh[256-60:256+60, 256-60:256+60], levels, lw=10, cmap='viridis', origin='lower')\n",
    "plt.imshow(data18tag[256-60:256+60,256-60:256+60], cmap='hot_r', origin='lower')#,norm=LogNorm(5e11,1e18))\n",
    "ax = plt.gca()\n",
    "ax.tick_params(axis='both', which='major', labelsize=20)\n",
    "cb1 = plt.colorbar(ax=ax)\n",
    "cb1.ax.tick_params(labelsize=16)\n",
    "plt.clim([100,350])\n",
    "plt.show()"
   ]
  },
  {
   "cell_type": "code",
   "execution_count": 87,
   "metadata": {
    "collapsed": true
   },
   "outputs": [],
   "source": [
    "plt.figure(3)\n",
    "\n",
    "cont = '/home/felipe/Escritorio/nuevos_cubos/HD142527cont.fits'\n",
    "imatag = '/home/felipe/Escritorio/ID/HD142527/HD142527_12CO21.clean_MOM2'\n",
    "#imatag = '/home/felipe/Escritorio/ID/HD142527/HD142527_13CO_contrest_MOM2'\n",
    "ima = '/home/felipe/Escritorio/ID/HD142527/Physical_condition_32/lines_13_model'\n",
    "\n",
    "contsh = pf.open(cont)[0].data\n",
    "contsh = contsh[0,0,:,:]\n",
    "data18tag = pf.open(imatag+'.fits')[0].data\n",
    "data18 = pf.open(ima+'.fits')[0].data\n",
    "data18=sp.sum(data18,axis=0)\n",
    "\n",
    "data18tag[data18tag==0]=None\n",
    "data18[data18==0]=None\n",
    "data18tag[data18tag<0.2] = None\n",
    "\n",
    "levels=sp.array([0.005, 0.012, 0.019])\n",
    "plt.contour(contsh[256-60:256+60, 256-60:256+60], levels, lw=10, cmap='viridis', origin='lower')\n",
    "plt.imshow(1000*data18tag[256-60:256+60,256-60:256+60], cmap='magma', origin='lower')#,norm=LogNorm(5e11,1e18))\n",
    "ax = plt.gca()\n",
    "ax.tick_params(axis='both', which='major', labelsize=20)\n",
    "cb1 = plt.colorbar(ax=ax)\n",
    "cb1.ax.tick_params(labelsize=16)\n",
    "plt.clim([100,1500])\n",
    "plt.show()"
   ]
  },
  {
   "cell_type": "code",
   "execution_count": 51,
   "metadata": {
    "collapsed": false
   },
   "outputs": [],
   "source": [
    "image1 ='/home/felipe/Escritorio/ID/HD142527/Simulations_CO3-2/no_smooth_Simslines_13_' + tag1\n",
    "datamdel = pf.open(image1+'.fits')[0].data\n",
    "datamdel[datamdel==0]=None\n",
    "\n",
    "def line(theta):\n",
    "    pairs = sp.zeros((35,2))\n",
    "    for i in range(35):\n",
    "        r = 3.*(i+1)\n",
    "        pairs[i,0] = int(r*sp.cos(theta)) + 128\n",
    "        pairs[i,1] = int(r*sp.sin(theta)) + 128\n",
    "    return pairs\n",
    "\n",
    "def angles(r):\n",
    "    pairs = sp.zeros((int(3*r),2))\n",
    "    thetas = sp.linspace(0, 2*sp.pi, int(3*r))\n",
    "    for i in range(int(3*r)):\n",
    "        pairs[i] = int(r*sp.cos(thetas[i]))+128, int(r*sp.sin(thetas[i]))+128\n",
    "    return pairs, thetas    \n",
    "        \n",
    "        \n",
    "r= sp.arange(3,108,3)        \n",
    "x0,y0=128,128\n"
   ]
  },
  {
   "cell_type": "code",
   "execution_count": 52,
   "metadata": {
    "collapsed": false
   },
   "outputs": [
    {
     "name": "stderr",
     "output_type": "stream",
     "text": [
      "/home/felipe/anaconda2/lib/python2.7/site-packages/matplotlib/backend_bases.py:2437: MatplotlibDeprecationWarning: Using default event loop until function specific to this GUI is implemented\n",
      "  warnings.warn(str, mplDeprecation)\n",
      "/home/felipe/anaconda2/lib/python2.7/site-packages/ipykernel/__main__.py:18: VisibleDeprecationWarning: using a non-integer number instead of an integer will result in an error in the future\n"
     ]
    }
   ],
   "source": [
    "while True:  \n",
    "    if (x0-128)**2 + (y0-128)**2>120**2:\n",
    "        break\n",
    "    plt.clf()\n",
    "    plt.imshow(smooth, cmap='inferno', origin='lower')  \n",
    "    l = plt.ginput(1)\n",
    "    x0 = l[0][0]\n",
    "    y0 = l[0][1]\n",
    "    if (x0-128)**2 + (y0-128)**2>120**2:\n",
    "        pass\n",
    "    r0 = sp.sqrt((x0-128)**2 +(y0-128)**2) \n",
    "#    x = sp.array([int(xy[0]) for xy in l])\n",
    "#    y = sp.array([int(xy[1]) for xy in l]) \n",
    "#    z = sp.array([datamdel[x[i],y[i]] for i in range(len(l))])\n",
    "    theta = sp.arctan((y0-128.)/(x0-128.))\n",
    "#    xy = line(theta)\n",
    "    xy, phis = angles(r0)\n",
    "    z = sp.array([datamdel[x[0],x[1]] for x in xy])\n",
    "    phis *= 180./sp.pi\n",
    "    z = sp.nan_to_num(z)\n",
    "    plt.figure(2)\n",
    "    plt.plot(phis,z,'*')\n",
    "    plt.xlim([0,360])\n",
    "    plt.show()\n",
    "    if r0<10:\n",
    "        break"
   ]
  },
  {
   "cell_type": "code",
   "execution_count": 20,
   "metadata": {
    "collapsed": false
   },
   "outputs": [
    {
     "name": "stderr",
     "output_type": "stream",
     "text": [
      "/home/felipe/anaconda2/lib/python2.7/site-packages/ipykernel/__main__.py:15: VisibleDeprecationWarning: using a non-integer number instead of an integer will result in an error in the future\n"
     ]
    }
   ],
   "source": [
    "r = sp.arange(5,80)\n",
    "M = sp.zeros(80-5)\n",
    "\n",
    "\n",
    "def angles(r):\n",
    "    pairs = sp.zeros((int(3*r),2))\n",
    "    thetas = sp.linspace(0, 2*sp.pi, int(3*r))\n",
    "    for i in range(int(3*r)):\n",
    "        pairs[i] = int(r*sp.cos(thetas[i]))+256, int(r*sp.sin(thetas[i]))+256\n",
    "    return pairs, thetas \n",
    "\n",
    "\n",
    "for i in range(5,80):\n",
    "    xy, phis = angles(i)\n",
    "    z = sp.array([data18tag[x[0],x[1]] for x in xy])\n",
    "    M[i-5] = sp.mean(z)\n",
    "M = sp.nan_to_num(M)\n",
    "plt.plot(r,M)\n",
    "plt.xlim([20,80])\n",
    "plt.show()\n",
    "    "
   ]
  },
  {
   "cell_type": "code",
   "execution_count": 45,
   "metadata": {
    "collapsed": false
   },
   "outputs": [
    {
     "name": "stdout",
     "output_type": "stream",
     "text": [
      "\tEmission C18O: 0.0992188\n",
      "\tEmission 13CO: 0.0159211\n",
      "\tEmission 12CO: 0.000168539\n"
     ]
    }
   ],
   "source": [
    "xticks = sp.linspace(-2,2,5)\n",
    "velocities = sp.linspace(-3,3,120)\n",
    "xticks = [str(x) for x in xticks]\n",
    "xs = sp.linspace(-2,2,5)\n",
    "\n",
    "import matplotlib as mpl\n",
    "\n",
    "plt.style.use('seaborn-paper')\n",
    "\n",
    "mpl.rcParams['xtick.labelsize'] = 16\n",
    "mpl.rcParams['ytick.labelsize'] = 16\n",
    "\n",
    "\n",
    "nodust_12 = pf.open(image12CO_nodust+'.fits')[0].data\n",
    "withdust_12 = pf.open(image12CO_2+'.fits')[0].data\n",
    "\n",
    "nodust_13 = pf.open(image13CO_nodust+'.fits')[0].data\n",
    "withdust_13 = pf.open(image13CO_2+'.fits')[0].data\n",
    "\n",
    "nodust_18 = pf.open(imageC18O_nodust+'.fits')[0].data\n",
    "withdust_18 = pf.open(imageC18O_2+'.fits')[0].data\n",
    "\n",
    "j, i= 179,100\n",
    "rests_18 = withdust_18 - nodust_18\n",
    "rest18_ij = rests_18[:,j,i]\n",
    "\n",
    "rests_12 = withdust_12 - nodust_12\n",
    "rest12_ij = rests_12[:,j,i]\n",
    "\n",
    "rests_13 = withdust_13 - nodust_13\n",
    "rest13_ij = rests_13[:,j,i]\n",
    "\n",
    "#plt.plot(restij)\n",
    "plt.plot(velocities,1000*rest18_ij,'b-.',label='$C^{18}O$')\n",
    "plt.plot(velocities,1000*rest13_ij,'g--',label='$^{13}CO$')\n",
    "plt.plot(velocities,1000*rest12_ij,'r-',label='$^{12}CO$')\n",
    "plt.xlim([-2,2])\n",
    "plt.xticks(xs,xticks)\n",
    "plt.xlabel('$km/s$', fontsize=18)\n",
    "plt.ylabel('$mJy/Beam$', fontsize=18)\n",
    "print('\\tEmission C18O: '+str(rest18_ij.min()/sp.median(rest18_ij)))\n",
    "print('\\tEmission 13CO: '+str(rest13_ij.min()/sp.median(rest13_ij)))\n",
    "print('\\tEmission 12CO: '+str(rest12_ij.min()/sp.median(rest12_ij)))\n",
    "plt.legend(fontsize=16, loc=4)\n",
    "plt.ylim([-0.0001,1300*rest12_ij.max()])\n",
    "plt.tight_layout()\n",
    "\n",
    "plt.show()"
   ]
  },
  {
   "cell_type": "code",
   "execution_count": 34,
   "metadata": {
    "collapsed": false
   },
   "outputs": [
    {
     "data": {
      "text/plain": [
       "(120,)"
      ]
     },
     "execution_count": 34,
     "metadata": {},
     "output_type": "execute_result"
    }
   ],
   "source": [
    "velocities.shape"
   ]
  }
 ],
 "metadata": {
  "kernelspec": {
   "display_name": "Python [Root]",
   "language": "python",
   "name": "Python [Root]"
  },
  "language_info": {
   "codemirror_mode": {
    "name": "ipython",
    "version": 2
   },
   "file_extension": ".py",
   "mimetype": "text/x-python",
   "name": "python",
   "nbconvert_exporter": "python",
   "pygments_lexer": "ipython2",
   "version": "2.7.12"
  }
 },
 "nbformat": 4,
 "nbformat_minor": 0
}
