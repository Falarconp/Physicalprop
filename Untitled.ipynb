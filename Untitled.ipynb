{
 "cells": [
  {
   "cell_type": "code",
   "execution_count": 2,
   "metadata": {
    "collapsed": false
   },
   "outputs": [
    {
     "name": "stdout",
     "output_type": "stream",
     "text": [
      "/home/felipe/Escritorio/nuevos_cubos\n"
     ]
    }
   ],
   "source": [
    "cd ../nuevos_cubos/"
   ]
  },
  {
   "cell_type": "code",
   "execution_count": 57,
   "metadata": {
    "collapsed": false
   },
   "outputs": [],
   "source": [
    "import pyfits as pf\n",
    "import scipy as sp\n",
    "import matplotlib.pyplot as plt\n",
    "import seaborn as sns\n",
    "from astropy.constants import k_B,m_p\n",
    "from mpl_toolkits.axes_grid1 import AxesGrid\n",
    "from astropy.convolution import Gaussian2DKernel, convolve_fft\n",
    "\n",
    "m12 = 28.*m_p\n",
    "m13= 29.*m_p\n",
    "m18 = 30.*m_p\n",
    "plt.style.context(('white_background'))\n",
    "plt.style.use('seaborn-deep')\n",
    "#plt.style.use('classic')\n",
    "\n",
    "\n",
    "import matplotlib as mpl\n",
    "mpl.rcParams['xtick.labelsize'] = 16\n",
    "mpl.rcParams['ytick.labelsize'] = 16\n"
   ]
  },
  {
   "cell_type": "code",
   "execution_count": 3,
   "metadata": {
    "collapsed": false
   },
   "outputs": [],
   "source": [
    "tag = 'smooth_Simslines_'\n",
    "temp12 = tag + '12_Temp.fits'\n",
    "temp13 = tag + '13_Temp.fits'\n",
    "temp18 = tag + '18_Temp.fits'\n",
    "v12 = tag + '12_v_turb.fits'\n",
    "v13 = tag + '13_v_turb.fits'\n",
    "v18 = tag + '18_v_turb.fits'\n",
    "mom2_12 = tag + '12_mom2.fits'\n",
    "mom2_13 = tag + '13_mom2.fits'\n",
    "mom2_18 = tag + '18_mom2.fits'\n",
    "\n",
    "d13 = -55599.46649169922\n",
    "nu13i = 330587993021.5317 - d13*59\n",
    "nu13f = 330587993021.5317 + d13*60\n",
    "\n",
    "name13 = 'image_13co32_o500_i159.00_phi90.00_PA-24.00.fits'\n",
    "data13 = pf.open(name13)[0].data\n",
    "\n",
    "name12 = 'image_12co32_o500_i159.00_phi90.00_PA-24.00.fits'\n",
    "data12 = pf.open(name13)[0].data\n",
    "head = pf.open(name13)[0].header\n",
    "\n",
    "mom1 = sp.zeros((256,256))\n",
    "mom0 = sp.zeros((256,256))"
   ]
  },
  {
   "cell_type": "code",
   "execution_count": 4,
   "metadata": {
    "collapsed": true
   },
   "outputs": [],
   "source": [
    "d12 = -58157.20745849609\n",
    "nu12i = 345796018978.6035 - d12*59\n",
    "nu12f = 345796018978.6035 + d12*60\n",
    "\n",
    "d13 = -55599.46649169922\n",
    "nu13i = 330587993021.5317 - d13*59\n",
    "nu13f = 330587993021.5317 + d13*60\n",
    "\n",
    "nu12 = sp.linspace(nu12i,nu12f,120)\n",
    "nu13 = sp.linspace(nu13i,nu13f,120)\n",
    "velocity = sp.linspace(-3,3,120)"
   ]
  },
  {
   "cell_type": "code",
   "execution_count": 5,
   "metadata": {
    "collapsed": false
   },
   "outputs": [],
   "source": [
    "for i in range(256):\n",
    "    for j in range (256):\n",
    "        d12 = data12[:,i,j]\n",
    "        d13 = data13[:,i,j]\n",
    "        \n",
    "        mom0[i,j] = sp.integrate.simps(d13, velocity)\n",
    "        mom1[i,j] = sp.integrate.simps(velocity*d12, nu12)/sp.integrate.simps(d12,nu12)     \n",
    "\n",
    "mom1 = sp.nan_to_num(mom1)\n",
    "\n",
    "#mom0[mom0==0]=None\n",
    "#mom1[mom1==0]=None"
   ]
  },
  {
   "cell_type": "code",
   "execution_count": 9,
   "metadata": {
    "collapsed": false
   },
   "outputs": [],
   "source": [
    "from matplotlib.patches import Polygon\n",
    "plt.grid(False)\n",
    "\n",
    "xticks = sp.linspace(-2.8*80/128., 2.8*80/128., 5)\n",
    "xticks = abs(xticks)\n",
    "xticks = [str(x) for x in xticks]\n",
    "yticks = sp.linspace(2.8*80/128., -2.8*80/128., 5)\n",
    "yticks = abs(yticks)\n",
    "yticks = [str(y) for y in yticks]\n",
    "xs = sp.linspace(0,160,5)\n",
    "\n",
    "\n",
    "levels=sp.linspace(-1.5,1.5,10)\n",
    "Beam = 0.25\n",
    "resol = abs(head['CDELT1'])*3600\n",
    "stdev = Beam / (2 * sp.sqrt (2 * sp.log(2)))\n",
    "stdev /= resol\n",
    "x_size = int(8*stdev + 1.)\n",
    "beam = Gaussian2DKernel (stddev = stdev, x_size = x_size, y_size = x_size,\n",
    "                        model ='integrate')\n",
    "smooth =  sp.zeros((256, 256))\n",
    "smooth_m0 = convolve_fft(mom0, beam)\n",
    "smooth_m1 = convolve_fft(mom1,beam)\n",
    "\n",
    "#smooth_m0[mom0==0]=None\n",
    "#smooth_m1[mom1==0]=None\n",
    "\n",
    "#smooth_m1[179,100]=None\n",
    "#smooth_m1[100,179]=None\n",
    "\n",
    "#fig = plt.figure(1)\n",
    "#ax = plt.gca()\n",
    "\n",
    "\n",
    "#plt.xticks(xs,xticks)\n",
    "#plt.yticks(xs,yticks)\n",
    "#plt.xlabel('$r/a$', fontsize=16)\n",
    "#plt.ylabel('$r/a$', fontsize=16)\n",
    "#im1=ax.imshow(smooth_m1[47:209,47:209], origin='lower', cmap='magma')\n",
    "#cbar1=fig.colorbar(im1,ax=ax,pad=0.01, label='km/s')\n",
    "#cs1=ax.contour(smooth_m1[47:209,47:209],levels,cmap='magma_r')\n",
    "#cbar1.add_lines(cs1)\n",
    "#cbar1.ax.tick_params(labelsize=12)\n",
    "\n",
    "#ax.annotate('',\n",
    "#            xy=(455,0),xycoords='figure pixels',\n",
    "#            xytext=(455, 175), textcoords='figure pixels',\n",
    "#           arrowprops=dict(facecolor='black', width=1))\n",
    "\n",
    "smooth_m0[179,100] = None\n",
    "smooth_m0[100,179] = None\n",
    "smooth_m0[145,145] = None\n",
    "smooth_m0[110,110] = None\n",
    "\n",
    "#ax.annotate('',\n",
    "#            xy=(283,440),xycoords='figure pixels',\n",
    "#            xytext=(283, 360), textcoords='figure pixels',\n",
    "#           arrowprops=dict(facecolor='black', width=1))\n",
    "\n",
    "#plt.tight_layout()\n",
    "\n",
    "\n",
    "fig2 = plt.figure(1)\n",
    "\n",
    "plt.grid(False)\n",
    "\n",
    "plt.imshow(1000*smooth_m0[47:209,47:209], origin='lower', cmap='plasma')\n",
    "plt.clim([0,0.501])\n",
    "cbar=plt.colorbar(pad=0.01, label='$Jy\\cdot m/s$')\n",
    "cbar.set_ticks([0,0.25,0.5])\n",
    "ax2=plt.gca()\n",
    "\n",
    "ax2.annotate('',\n",
    "            xy=(460,0),xycoords='figure pixels',\n",
    "            xytext=(460, 175), textcoords='figure pixels',\n",
    "           arrowprops=dict(facecolor='black', width=1))\n",
    "\n",
    "#ax2.annotate('',\n",
    "#            xy=(660,335),xycoords='figure pixels',\n",
    "#            xytext=(455, 335), textcoords='figure pixels',\n",
    "#           arrowprops=dict(facecolor='black', width=1))\n",
    "\n",
    "ax2.annotate('',\n",
    "            xy=(0,210),xycoords='figure pixels',\n",
    "            xytext=(310, 210), textcoords='figure pixels',\n",
    "           arrowprops=dict(facecolor='black', width=1))\n",
    "\n",
    "\n",
    "ax2.annotate('',\n",
    "            xy=(300,440),xycoords='figure pixels',\n",
    "            xytext=(0, 360), textcoords='figure pixels',\n",
    "           arrowprops=dict(facecolor='black', width=1))\n",
    "\n",
    "\n",
    "\n",
    "plt.xlabel('$r/a$', fontsize=20)\n",
    "plt.ylabel('$r/a$', fontsize=20)\n",
    "plt.xticks(xs,xticks)\n",
    "plt.yticks(xs,yticks)\n",
    "plt.tight_layout()\n",
    "\n",
    "plt.show()"
   ]
  },
  {
   "cell_type": "code",
   "execution_count": 20,
   "metadata": {
    "collapsed": false
   },
   "outputs": [],
   "source": [
    "plt.tick_params(\n",
    "    axis='both',          \n",
    "    which='both',      \n",
    "    labelsize=16)\n",
    "\n",
    "xticks = abs(sp.linspace(-2.8*80/128., 2.8*80/128., 5))\n",
    "xs = sp.linspace(1,158,5)\n",
    "\n",
    "\n",
    "plt.figure(1)\n",
    "plt.imshow(vtemp_12, cmap='plasma_r', origin='lower')\n",
    "plt.xlabel('$r/a$', fontsize=16)\n",
    "plt.ylabel('$r/a$', fontsize=16)\n",
    "#plt.colorbar(pad=0.01)\n",
    "ax =plt.gca()\n",
    "ax.set_xticks(xs)\n",
    "ax.set_xticklabels(xticks)\n",
    "ax.set_yticks(xs)\n",
    "ax.set_yticklabels(xticks)\n",
    "plt.clim([0,220])\n",
    "plt.contour(smodeldata, sp.array([0.0022]), linewidth=10, cmap='inferno', origin='lower')\n",
    "plt.tight_layout()\n",
    "\n",
    "plt.figure(2)\n",
    "plt.imshow(vturb12, cmap='plasma_r', origin='lower')\n",
    "plt.xlabel('$r/a$', fontsize=16)\n",
    "ax = plt.gca()\n",
    "ax.get_yaxis().set_visible(False)\n",
    "ax.set_xticks(xs)\n",
    "ax.set_xticklabels(xticks)\n",
    "plt.clim([0,220])\n",
    "plt.colorbar(pad=0.01)\n",
    "plt.contour(smodeldata, sp.array([0.0022]), linewidth=10, cmap='inferno', origin='lower')\n",
    "plt.tight_layout()\n",
    "\n",
    "plt.show()"
   ]
  },
  {
   "cell_type": "code",
   "execution_count": 11,
   "metadata": {
    "collapsed": false
   },
   "outputs": [],
   "source": [
    "vturb12 = pf.open(v12)[0].data\n",
    "vturb13 = pf.open(v13)[0].data\n",
    "vturb18 = pf.open(v18)[0].data\n",
    "\n",
    "T12 = pf.open(temp12)[0].data\n",
    "T13 = pf.open(temp13)[0].data\n",
    "T18 = pf.open(temp18)[0].data\n",
    "\n",
    "m2_12 = pf.open(mom2_12)[0].data\n",
    "m2_13 = pf.open(mom2_13)[0].data\n",
    "m2_18 = pf.open(mom2_18)[0].data\n",
    "\n",
    "vturb13 = vturb13[48:208,48:208]\n",
    "vturb12 = vturb12[48:208,48:208]\n",
    "vturb18 = vturb18[48:208,48:208]\n",
    "\n",
    "m2_12 = m2_12[48:208,48:208]\n",
    "m2_13 = m2_13[48:208,48:208]\n",
    "m2_18 = m2_18[48:208,48:208]\n",
    "\n",
    "T12 = T12[48:208,48:208]\n",
    "T13 = T13[48:208,48:208]\n",
    "T18 = T18[48:208,48:208]\n",
    "\n",
    "vtemp_12 = sp.sqrt(2*k_B*T12/m12)\n",
    "vtemp_13 = sp.sqrt(2*k_B*T13/m13)\n",
    "vtemp_18 = sp.sqrt(2*k_B*T18/m18)\n",
    "\n",
    "vturb12[vturb12<=10]=None\n",
    "vturb13[vturb13<=10]=None\n",
    "vturb18[vturb18<=10]=None\n",
    "\n",
    "vtemp_12[vtemp_12<=10]=None\n",
    "vtemp_13[vtemp_13<=10]=None\n",
    "vtemp_18[vtemp_18<=10]=None"
   ]
  },
  {
   "cell_type": "code",
   "execution_count": 32,
   "metadata": {
    "collapsed": false
   },
   "outputs": [],
   "source": [
    "imagesmooth1 ='/home/felipe/Escritorio/ID/HD142527/Simulations_CO3-2/smooth_Simslines_18_v_turb'\n",
    "imagesmooth2 = '/home/felipe/Escritorio/ID/HD142527/Simulations_CO3-2/Simslines_13_model'\n",
    "smodeldata = pf.open(imagesmooth2+'.fits')[0].data\n",
    "smodeldata = sp.sum(smodeldata,axis=0)\n",
    "sdatamdel = pf.open(imagesmooth1+'.fits')[0].data\n",
    "smodeldata[sdatamdel==0]=None\n",
    "sdatamdel[sdatamdel==0]=None\n",
    "smodeldata = smodeldata[48:208,48:208]\n",
    "plt.grid(False)\n",
    "\n",
    "plt.figure(1)\n",
    "ax = plt.gca()\n",
    "plt.imshow(m2_12, origin='lower', cmap='BuPu')\n",
    "plt.clim([0,500])\n",
    "plt.contour(smodeldata, sp.array([0.0022]), linewidth=10, cmap='inferno', origin='lower')\n",
    "plt.xlabel('$r/a$', fontsize=20)\n",
    "plt.ylabel('$r/a$', fontsize=20)\n",
    "ax =plt.gca()\n",
    "ax.set_xticks(xs)\n",
    "ax.set_xticklabels(xticks)\n",
    "ax.set_yticks(xs)\n",
    "ax.set_yticklabels(xticks)\n",
    "plt.tight_layout()\n",
    "\n",
    "\n",
    "plt.figure(2)\n",
    "plt.grid(False)\n",
    "plt.imshow(m2_13, origin='lower', cmap='BuPu')\n",
    "plt.clim([0,500])\n",
    "plt.contour(smodeldata, sp.array([0.0022]), linewidth=10, cmap='inferno', origin='lower')\n",
    "plt.xlabel('$r/a$', fontsize=20)\n",
    "ax = plt.gca()\n",
    "ax.get_yaxis().set_visible(False)\n",
    "ax.set_xticks(xs)\n",
    "ax.set_xticklabels(xticks)\n",
    "plt.tight_layout()\n",
    "\n",
    "\n",
    "plt.figure(4)\n",
    "           \n",
    "plt.grid(False)\n",
    "plt.imshow(m2_18, origin='lower', cmap='BuPu')\n",
    "plt.clim([0,500])\n",
    "plt.colorbar(pad=0.01)\n",
    "plt.contour(smodeldata, sp.array([0.0022]), linewidth=10, cmap='inferno', origin='lower')\n",
    "plt.xlabel('$r/a$', fontsize=20)\n",
    "ax = plt.gca()\n",
    "ax.get_yaxis().set_visible(False)\n",
    "ax.set_xticks(xs)\n",
    "ax.set_xticklabels(xticks)\n",
    "plt.tight_layout()\n",
    "\n",
    "\n",
    "plt.show()"
   ]
  },
  {
   "cell_type": "code",
   "execution_count": 90,
   "metadata": {
    "collapsed": false
   },
   "outputs": [],
   "source": [
    "def line(theta):\n",
    "    pairs = sp.zeros((35,2))\n",
    "    for i in range(35):\n",
    "        r = 2.2*(i+1)\n",
    "        pairs[i,0] = int(r*sp.cos(theta)) + 80\n",
    "        pairs[i,1] = int(r*sp.sin(theta)) + 80\n",
    "    return pairs\n",
    "\n",
    "def angles(r):\n",
    "    pairs = sp.zeros((int(3*r),2))\n",
    "    thetas = sp.linspace(0, 2*sp.pi, int(3*r))+ sp.pi/2.\n",
    "    for i in range(int(3*r)):\n",
    "        pairs[i] = int(r*sp.cos(thetas[i]))+80, int(r*sp.sin(thetas[i]))+80\n",
    "    return pairs, thetas  "
   ]
  },
  {
   "cell_type": "code",
   "execution_count": 100,
   "metadata": {
    "collapsed": false
   },
   "outputs": [
    {
     "name": "stdout",
     "output_type": "stream",
     "text": [
      "(43.477272727272734, 28.363636363636374)\n",
      "63.2473213427\n"
     ]
    },
    {
     "name": "stderr",
     "output_type": "stream",
     "text": [
      "/home/felipe/anaconda2/lib/python2.7/site-packages/ipykernel/__main__.py:23: VisibleDeprecationWarning: using a non-integer number instead of an integer will result in an error in the future\n",
      "/home/felipe/anaconda2/lib/python2.7/site-packages/ipykernel/__main__.py:24: VisibleDeprecationWarning: using a non-integer number instead of an integer will result in an error in the future\n"
     ]
    },
    {
     "name": "stdout",
     "output_type": "stream",
     "text": [
      "(86.659090909090892, 78.931818181818187)\n",
      "6.74422005366\n"
     ]
    }
   ],
   "source": [
    "x0,y0=20,20\n",
    "rs = sp.linspace(0,34*2.2,35)*2.8/128.\n",
    "\n",
    "while True:  \n",
    "    if (x0-80)**2 + (y0-80)**2<10**2:\n",
    "        break\n",
    "    plt.clf()\n",
    "    plt.imshow(vturb13, cmap='inferno')  \n",
    "    l = plt.ginput(1)\n",
    "    x0 = l[0][0]\n",
    "    y0 = l[0][1]\n",
    "    print(x0,y0)\n",
    "    if (x0-80)**2 + (y0-80)**2<10**2:\n",
    "        pass\n",
    "    r0 = sp.sqrt((x0-80)**2 +(y0-80)**2)\n",
    "    x = sp.array([int(xy[0]) for xy in l])\n",
    "    y = sp.array([int(xy[1]) for xy in l]) \n",
    "#    z = sp.array([datamdel[x[i],y[i]] for i in range(len(l))])\n",
    "    theta = sp.arctan((y0-80.)/(x0-80.))\n",
    "    print(r0)\n",
    "#    xy = line(theta)\n",
    "    xy, phis = angles(r0)\n",
    "    z = sp.array([vtemp_12[x[0],x[1]] for x in xy])\n",
    "    z2 = sp.array([vturb12[x[0],x[1]] for x in xy])\n",
    "    phis *= 180./sp.pi\n",
    "    phis -= 90\n",
    "    z = sp.nan_to_num(z)\n",
    "    plt.figure(2)\n",
    "    plt.grid(False)\n",
    "    plt.xlabel('Angle[$^\\circ$]', fontsize=20)\n",
    "#    plt.xlabel('$r/a$', fontsize=16)\n",
    "    plt.ylabel('Velocity [m/s]', fontsize=20)\n",
    "    plt.plot(phis,z,'r', label='Thermal')\n",
    "    plt.plot(phis,z2,'k',label='Turbulent')\n",
    "#    plt.plot(rs,z,'r', label='Thermal')\n",
    "#    plt.plot(rs,z2,'k',label='Turbulent')\n",
    "    plt.legend(fontsize=14, loc=4)\n",
    "    plt.xlim([0,360])\n",
    "    plt.tight_layout()\n",
    "    plt.show()\n",
    "    if r0<10:\n",
    "        break"
   ]
  },
  {
   "cell_type": "code",
   "execution_count": 95,
   "metadata": {
    "collapsed": false
   },
   "outputs": [
    {
     "data": {
      "text/plain": [
       "array([  90.,  130.,  170.,  210.,  250.,  290.,  330.,   10.,   50.,   90.])"
      ]
     },
     "execution_count": 95,
     "metadata": {},
     "output_type": "execute_result"
    }
   ],
   "source": [
    "phis"
   ]
  },
  {
   "cell_type": "code",
   "execution_count": 52,
   "metadata": {
    "collapsed": false
   },
   "outputs": [
    {
     "name": "stderr",
     "output_type": "stream",
     "text": [
      "/home/felipe/anaconda2/lib/python2.7/site-packages/ipykernel/__main__.py:3: VisibleDeprecationWarning: using a non-integer number instead of an integer will result in an error in the future\n",
      "  app.launch_new_instance()\n",
      "/home/felipe/anaconda2/lib/python2.7/site-packages/ipykernel/__main__.py:4: VisibleDeprecationWarning: using a non-integer number instead of an integer will result in an error in the future\n"
     ]
    }
   ],
   "source": [
    "rs = sp.linspace(0,34*2.2,35)*2.8/128.\n",
    "xy = line(230*sp.pi/180.)\n",
    "z = sp.array([vtemp_12[x[0],x[1]] for x in xy])\n",
    "z2 = sp.array([vturb12[x[0],x[1]] for x in xy])\n",
    "#    phis *= 180./sp.pi\n",
    "z = sp.nan_to_num(z)\n",
    "plt.figure(2)\n",
    "plt.grid(False)\n",
    "#    plt.xlabel('Angle[$^\\circ$]', fontsize=16)\n",
    "plt.xlabel('$r/a$', fontsize=20)\n",
    "plt.ylabel('Velocity [m/s]', fontsize=20)\n",
    "#    plt.plot(phis,z,'r', label='Thermal')\n",
    "#    plt.plot(phis,z2,'k',label='Turbulent')\n",
    "plt.plot(rs,z,'r', label='Thermal')\n",
    "plt.plot(rs,z2,'k',label='Turbulent')    \n",
    "plt.legend(fontsize=16,loc='2')\n",
    "plt.xlim([0.25,1.6])\n",
    "plt.tight_layout()\n",
    "plt.show()"
   ]
  },
  {
   "cell_type": "code",
   "execution_count": 50,
   "metadata": {
    "collapsed": false
   },
   "outputs": [
    {
     "data": {
      "text/plain": [
       "12.994616791916389"
      ]
     },
     "execution_count": 50,
     "metadata": {},
     "output_type": "execute_result"
    }
   ],
   "source": [
    "theta*180/sp.pi"
   ]
  },
  {
   "cell_type": "code",
   "execution_count": 46,
   "metadata": {
    "collapsed": false
   },
   "outputs": [
    {
     "name": "stderr",
     "output_type": "stream",
     "text": [
      "/home/felipe/anaconda2/lib/python2.7/site-packages/ipykernel/__main__.py:3: VisibleDeprecationWarning: using a non-integer number instead of an integer will result in an error in the future\n",
      "  app.launch_new_instance()\n",
      "/home/felipe/anaconda2/lib/python2.7/site-packages/ipykernel/__main__.py:4: VisibleDeprecationWarning: using a non-integer number instead of an integer will result in an error in the future\n"
     ]
    }
   ],
   "source": [
    "    xy = line(theta)\n",
    "#    xy, phis = angles(r0)\n",
    "    z = sp.array([vtemp_13[x[0],x[1]] for x in xy])\n",
    "    z2 = sp.array([vturb13[x[0],x[1]] for x in xy])\n",
    "#    phis *= 180./sp.pi\n",
    "    z = sp.nan_to_num(z)\n",
    "    plt.figure(2)\n",
    "    plt.grid(False)\n",
    "#    plt.xlabel('Angle[$^\\circ$]', fontsize=16)\n",
    "    plt.xlabel('$r/a$', fontsize=20)\n",
    "    plt.ylabel('Velocity [m/s]', fontsize=20)\n",
    "#    plt.plot(phis,z,'r', label='Thermal')\n",
    "#    plt.plot(phis,z2,'k',label='Turbulent')\n",
    "    plt.plot(rs,z,'r', label='Thermal')\n",
    "    plt.plot(rs,z2,'k',label='Turbulent')    \n",
    "    plt.legend(fontsize=14, loc=4)\n",
    "    plt.xlim([0,1.6])\n",
    "#    plt.xlim([0,360])\n",
    "    plt.tight_layout()\n",
    "    plt.show()"
   ]
  },
  {
   "cell_type": "code",
   "execution_count": 44,
   "metadata": {
    "collapsed": false
   },
   "outputs": [],
   "source": [
    "vturb13=sp.flipud(vturb13)\n",
    "vtemp_13 = sp.flipud(vtemp_13)"
   ]
  },
  {
   "cell_type": "code",
   "execution_count": 75,
   "metadata": {
    "collapsed": false
   },
   "outputs": [
    {
     "data": {
      "text/plain": [
       "array([[ 140.,   80.],\n",
       "       [ 139.,   82.],\n",
       "       [ 139.,   84.],\n",
       "       [ 139.,   86.],\n",
       "       [ 139.,   88.],\n",
       "       [ 139.,   90.],\n",
       "       [ 138.,   92.],\n",
       "       [ 138.,   94.],\n",
       "       [ 137.,   96.],\n",
       "       [ 137.,   98.],\n",
       "       [ 136.,  100.],\n",
       "       [ 135.,  102.],\n",
       "       [ 134.,  104.],\n",
       "       [ 133.,  106.],\n",
       "       [ 132.,  108.],\n",
       "       [ 131.,  110.],\n",
       "       [ 130.,  111.],\n",
       "       [ 129.,  113.],\n",
       "       [ 128.,  115.],\n",
       "       [ 127.,  117.],\n",
       "       [ 125.,  118.],\n",
       "       [ 124.,  120.],\n",
       "       [ 122.,  121.],\n",
       "       [ 121.,  123.],\n",
       "       [ 119.,  124.],\n",
       "       [ 118.,  126.],\n",
       "       [ 116.,  127.],\n",
       "       [ 115.,  128.],\n",
       "       [ 113.,  129.],\n",
       "       [ 111.,  131.],\n",
       "       [ 109.,  132.],\n",
       "       [ 107.,  133.],\n",
       "       [ 105.,  134.],\n",
       "       [ 104.,  134.],\n",
       "       [ 102.,  135.],\n",
       "       [ 100.,  136.],\n",
       "       [  98.,  137.],\n",
       "       [  96.,  137.],\n",
       "       [  94.,  138.],\n",
       "       [  92.,  138.],\n",
       "       [  89.,  139.],\n",
       "       [  87.,  139.],\n",
       "       [  85.,  139.],\n",
       "       [  83.,  139.],\n",
       "       [  81.,  139.],\n",
       "       [  80.,  139.],\n",
       "       [  78.,  139.],\n",
       "       [  76.,  139.],\n",
       "       [  74.,  139.],\n",
       "       [  72.,  139.],\n",
       "       [  70.,  138.],\n",
       "       [  67.,  138.],\n",
       "       [  65.,  138.],\n",
       "       [  63.,  137.],\n",
       "       [  61.,  136.],\n",
       "       [  59.,  136.],\n",
       "       [  57.,  135.],\n",
       "       [  55.,  134.],\n",
       "       [  54.,  133.],\n",
       "       [  52.,  132.],\n",
       "       [  50.,  131.],\n",
       "       [  48.,  130.],\n",
       "       [  46.,  129.],\n",
       "       [  45.,  128.],\n",
       "       [  43.,  126.],\n",
       "       [  41.,  125.],\n",
       "       [  40.,  124.],\n",
       "       [  38.,  122.],\n",
       "       [  37.,  121.],\n",
       "       [  35.,  119.],\n",
       "       [  34.,  117.],\n",
       "       [  33.,  116.],\n",
       "       [  31.,  114.],\n",
       "       [  30.,  112.],\n",
       "       [  29.,  111.],\n",
       "       [  28.,  109.],\n",
       "       [  27.,  107.],\n",
       "       [  26.,  105.],\n",
       "       [  25.,  103.],\n",
       "       [  25.,  101.],\n",
       "       [  24.,   99.],\n",
       "       [  23.,   97.],\n",
       "       [  23.,   95.],\n",
       "       [  22.,   93.],\n",
       "       [  22.,   91.],\n",
       "       [  21.,   89.],\n",
       "       [  21.,   87.],\n",
       "       [  21.,   85.],\n",
       "       [  21.,   83.],\n",
       "       [  21.,   81.],\n",
       "       [  21.,   79.],\n",
       "       [  21.,   77.],\n",
       "       [  21.,   75.],\n",
       "       [  21.,   73.],\n",
       "       [  21.,   71.],\n",
       "       [  22.,   69.],\n",
       "       [  22.,   67.],\n",
       "       [  23.,   65.],\n",
       "       [  23.,   63.],\n",
       "       [  24.,   61.],\n",
       "       [  25.,   59.],\n",
       "       [  25.,   57.],\n",
       "       [  26.,   55.],\n",
       "       [  27.,   53.],\n",
       "       [  28.,   51.],\n",
       "       [  29.,   49.],\n",
       "       [  30.,   48.],\n",
       "       [  31.,   46.],\n",
       "       [  33.,   44.],\n",
       "       [  34.,   43.],\n",
       "       [  35.,   41.],\n",
       "       [  37.,   39.],\n",
       "       [  38.,   38.],\n",
       "       [  40.,   36.],\n",
       "       [  41.,   35.],\n",
       "       [  43.,   34.],\n",
       "       [  45.,   32.],\n",
       "       [  46.,   31.],\n",
       "       [  48.,   30.],\n",
       "       [  50.,   29.],\n",
       "       [  52.,   28.],\n",
       "       [  54.,   27.],\n",
       "       [  55.,   26.],\n",
       "       [  57.,   25.],\n",
       "       [  59.,   24.],\n",
       "       [  61.,   24.],\n",
       "       [  63.,   23.],\n",
       "       [  65.,   22.],\n",
       "       [  67.,   22.],\n",
       "       [  70.,   22.],\n",
       "       [  72.,   21.],\n",
       "       [  74.,   21.],\n",
       "       [  76.,   21.],\n",
       "       [  78.,   21.],\n",
       "       [  80.,   21.],\n",
       "       [  81.,   21.],\n",
       "       [  83.,   21.],\n",
       "       [  85.,   21.],\n",
       "       [  87.,   21.],\n",
       "       [  89.,   21.],\n",
       "       [  92.,   22.],\n",
       "       [  94.,   22.],\n",
       "       [  96.,   23.],\n",
       "       [  98.,   23.],\n",
       "       [ 100.,   24.],\n",
       "       [ 102.,   25.],\n",
       "       [ 104.,   26.],\n",
       "       [ 105.,   26.],\n",
       "       [ 107.,   27.],\n",
       "       [ 109.,   28.],\n",
       "       [ 111.,   29.],\n",
       "       [ 113.,   31.],\n",
       "       [ 115.,   32.],\n",
       "       [ 116.,   33.],\n",
       "       [ 118.,   34.],\n",
       "       [ 119.,   36.],\n",
       "       [ 121.,   37.],\n",
       "       [ 122.,   39.],\n",
       "       [ 124.,   40.],\n",
       "       [ 125.,   42.],\n",
       "       [ 127.,   43.],\n",
       "       [ 128.,   45.],\n",
       "       [ 129.,   47.],\n",
       "       [ 130.,   49.],\n",
       "       [ 131.,   50.],\n",
       "       [ 132.,   52.],\n",
       "       [ 133.,   54.],\n",
       "       [ 134.,   56.],\n",
       "       [ 135.,   58.],\n",
       "       [ 136.,   60.],\n",
       "       [ 137.,   62.],\n",
       "       [ 137.,   64.],\n",
       "       [ 138.,   66.],\n",
       "       [ 138.,   68.],\n",
       "       [ 139.,   70.],\n",
       "       [ 139.,   72.],\n",
       "       [ 139.,   74.],\n",
       "       [ 139.,   76.],\n",
       "       [ 139.,   78.],\n",
       "       [ 140.,   80.]])"
      ]
     },
     "execution_count": 75,
     "metadata": {},
     "output_type": "execute_result"
    }
   ],
   "source": [
    "xy"
   ]
  }
 ],
 "metadata": {
  "kernelspec": {
   "display_name": "Python [Root]",
   "language": "python",
   "name": "Python [Root]"
  },
  "language_info": {
   "codemirror_mode": {
    "name": "ipython",
    "version": 2
   },
   "file_extension": ".py",
   "mimetype": "text/x-python",
   "name": "python",
   "nbconvert_exporter": "python",
   "pygments_lexer": "ipython2",
   "version": "2.7.12"
  }
 },
 "nbformat": 4,
 "nbformat_minor": 0
}
